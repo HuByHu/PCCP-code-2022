{
 "cells": [
  {
   "cell_type": "code",
   "execution_count": 1,
   "id": "21634356",
   "metadata": {},
   "outputs": [],
   "source": [
    "import pymatgen as mg\n",
    "import pymatgen.analysis.diffraction as anadi\n",
    "import pymatgen.analysis.diffraction.xrd as xrd\n",
    "import numpy as np\n",
    "import os\n",
    "import re\n",
    "from sklearn.svm import SVR\n",
    "import matplotlib.pyplot as plt"
   ]
  },
  {
   "cell_type": "code",
   "execution_count": 2,
   "id": "cd39e102",
   "metadata": {},
   "outputs": [],
   "source": [
    "patt_xrd = xrd.XRDCalculator('CuKa')"
   ]
  },
  {
   "cell_type": "code",
   "execution_count": 3,
   "id": "5f9813c1",
   "metadata": {},
   "outputs": [],
   "source": [
    "train_path='/Users/junjiehu/Desktop/202210test/train/'\n",
    "\n",
    "test_path='/Users/junjiehu/Desktop/202210test/test/'"
   ]
  },
  {
   "cell_type": "code",
   "execution_count": 4,
   "id": "143ead43",
   "metadata": {},
   "outputs": [],
   "source": [
    "global sample_num, rmat_num, series_num\n",
    "sample_num=1 #output of G\n",
    "rmat_num=28 "
   ]
  },
  {
   "cell_type": "code",
   "execution_count": 5,
   "id": "ef2251ce",
   "metadata": {},
   "outputs": [],
   "source": [
    "def get_energy(folder):\n",
    "    energy_string=os.popen('grep TOTEN '+folder+'/OUTCAR | tail -1').read().split(' ')[-2]\n",
    "    energy=round(np.float64(float(energy_string)),5)\n",
    "    return energy\n",
    "\n",
    "def linear_transform(energy):\n",
    "    global extend_num, move_num\n",
    "    energy_transform=(energy-move_num)*extend_num\n",
    "    return energy_transform\n",
    "\n",
    "def inverse_transform(energy_transform):\n",
    "    global extend_num, move_num\n",
    "    energy=energy_transform/extend_num+move_num\n",
    "    return energy\n",
    "\n",
    "def get_energy_per_atom(energy):\n",
    "    energy_per_atom=energy/atoms_num\n",
    "    return energy_per_atom"
   ]
  },
  {
   "cell_type": "code",
   "execution_count": 6,
   "id": "dac9cd93",
   "metadata": {},
   "outputs": [],
   "source": [
    "global extend_num, move_num"
   ]
  },
  {
   "cell_type": "code",
   "execution_count": 7,
   "id": "3ec18794",
   "metadata": {},
   "outputs": [],
   "source": [
    "extend_num=1000"
   ]
  },
  {
   "cell_type": "code",
   "execution_count": 8,
   "id": "ac305b54",
   "metadata": {},
   "outputs": [
    {
     "name": "stdout",
     "output_type": "stream",
     "text": [
      "-122.69044\n"
     ]
    }
   ],
   "source": [
    "move_num=get_energy(train_path+'00000/')\n",
    "print(move_num)"
   ]
  },
  {
   "cell_type": "code",
   "execution_count": 9,
   "id": "198b2076",
   "metadata": {},
   "outputs": [],
   "source": [
    "def tomgStructure(folder):\n",
    "    POSfile = folder+'/CONTCAR'      \n",
    "    R_mgS = mg.core.Structure.from_file(POSfile)\n",
    "    return R_mgS\n",
    "\n",
    "###\n",
    "##input_data_to_model\n",
    "###\n",
    "def get_xrdmat3(mgStructure):\n",
    "    global rmat_num\n",
    "    xrd_data4 = patt_xrd.get_pattern(mgStructure)\n",
    "    xrd_data4.y= xrd_data4.y-base_pxrd.y\n",
    "    i_column = rmat_num\n",
    "    xxx = []\n",
    "    yyy = []\n",
    "    mat4 = []\n",
    "    xrd_i = len(xrd_data4)\n",
    "    for i in range(xrd_i):\n",
    "        if abs(xrd_data4.y[i]) > 0.00001:\n",
    "            xxx.append(xrd_data4.x[i])\n",
    "            yyy.append(xrd_data4.y[i])\n",
    "    mat4.append(np.asarray(xxx))\n",
    "    mat4.append(np.asarray(yyy))\n",
    "    mat4 = np.asarray(mat4)\n",
    "    \n",
    "    xrd_x=[]\n",
    "    xrd_y=[]\n",
    "    xrd_mat4=[]\n",
    "    xrow=len(mat4[0])\n",
    "    \n",
    "    if xrow < i_column:\n",
    "        for i in mat4[0]:\n",
    "            xrd_x.append(i)\n",
    "        for j in mat4[1]:\n",
    "            xrd_y.append(j)\n",
    "        for i in range(0,i_column-xrow):\n",
    "            xrd_x.append(0)\n",
    "            xrd_y.append(0)\n",
    "        xrd_x=np.asarray(xrd_x)\n",
    "        xrd_y=np.asarray(xrd_y)\n",
    "    if xrow > i_column:\n",
    "        xrd_x=mat4[0][:i_column]\n",
    "        xrd_y=mat4[1][:i_column]\n",
    "    if xrow == i_column:\n",
    "        xrd_x= mat4[0]\n",
    "        xrd_y= mat4[1]\n",
    "        \n",
    "    \n",
    "    xrd_x=np.sin(np.dot(1/180*np.pi,xrd_x))\n",
    "    xrd_y=np.dot(100,xrd_y)\n",
    "    xrd_mat4.append(xrd_x)\n",
    "    xrd_mat4.append(xrd_y)\n",
    "    xrd_mat4=np.array(xrd_mat4)\n",
    "    return xrd_mat4\n",
    "###\n",
    "##input_data_as_knowlegde\n",
    "###\n",
    "'''\n",
    "def get_Gibbs(folder):\n",
    "    energy_string=os.popen('grep TOTEN '+folder+'/OUTCAR | tail -1').read().split(' ')[-2]\n",
    "    Gibbs=np.float64(float(energy_string))\n",
    "    Gibbs=round(Gibbs,6)\n",
    "    return Gibbs\n",
    "'''\n",
    "##\n",
    "###\n",
    "def get_atoms_num(folder2):\n",
    "    xxx=tomgStructure(folder2)\n",
    "    anum=len(xxx.sites)\n",
    "    return anum\n",
    "\n",
    "\n",
    "###\n",
    "##input_data_for_G\n",
    "###\n",
    "def GANs_Gmat(Random_Structure):\n",
    "    global rmat_num\n",
    "    RS_xrdmat = get_xrdmat3(Random_Structure)\n",
    "    multimat3_RS =  np.zeros((rmat_num,rmat_num),dtype='float32')\n",
    "    multimat3_RS = np.asarray((np.dot(RS_xrdmat.T, RS_xrdmat)))\n",
    "    return multimat3_RS"
   ]
  },
  {
   "cell_type": "code",
   "execution_count": 10,
   "id": "d7b5e4be",
   "metadata": {},
   "outputs": [],
   "source": [
    "base_pxrd_s=mg.core.Structure.from_file(train_path+'00000/CONTCAR')\n",
    "base_pxrd=patt_xrd.get_pattern(base_pxrd_s)"
   ]
  },
  {
   "cell_type": "code",
   "execution_count": 11,
   "id": "424b5b97",
   "metadata": {},
   "outputs": [],
   "source": [
    "def model_input_svm(floder):\n",
    "    #input\n",
    "    model_input=[]\n",
    "    model_input_mgs=tomgStructure(floder)\n",
    "    model_input_mgs=GANs_Gmat(model_input_mgs)\n",
    "    model_input.append(model_input_mgs)\n",
    "    model_input=np.asarray(model_input)\n",
    "    model_input=model_input.reshape(model_input.size)\n",
    "    return model_input"
   ]
  },
  {
   "cell_type": "code",
   "execution_count": 12,
   "id": "165239fa",
   "metadata": {},
   "outputs": [],
   "source": [
    "flag_set=[]\n",
    "file_path_set=[]\n",
    "work_path=train_path\n",
    "for m1,n1,fname in os.walk(work_path):\n",
    "    for ieach in n1:\n",
    "        flag_set.append(ieach)\n",
    "        ieach=work_path+ieach\n",
    "        file_path_set.append(ieach)"
   ]
  },
  {
   "cell_type": "code",
   "execution_count": 15,
   "id": "3ff5ab94",
   "metadata": {},
   "outputs": [],
   "source": [
    "energy_label=[]\n",
    "Y_train=[]\n",
    "for pnum in range(len(file_path_set)):\n",
    "    try:\n",
    "        eee = get_energy(file_path_set[pnum])\n",
    "        eee = [eee]\n",
    "        energy_label.append(eee)\n",
    "        Y_train.append(linear_transform(eee))\n",
    "    except:\n",
    "        print('energy label error: ', file_path_set[pnum])"
   ]
  },
  {
   "cell_type": "code",
   "execution_count": 16,
   "id": "c776cd6b",
   "metadata": {},
   "outputs": [],
   "source": [
    "X_train=[]\n",
    "for pnum in range(len(file_path_set)):\n",
    "    try:\n",
    "        X_train.append(model_input_svm(file_path_set[pnum]))\n",
    "    except:\n",
    "        print('inputX error:', file_path_set[pnum])"
   ]
  },
  {
   "cell_type": "code",
   "execution_count": 18,
   "id": "edf36055",
   "metadata": {},
   "outputs": [],
   "source": [
    "flag_set_test=[]\n",
    "file_path_set_test=[]\n",
    "work_path=test_path\n",
    "for m1,n1,fname in os.walk(work_path):\n",
    "    for ieach in n1:\n",
    "        flag_set_test.append(ieach)\n",
    "        ieach=work_path+ieach\n",
    "        file_path_set_test.append(ieach)"
   ]
  },
  {
   "cell_type": "code",
   "execution_count": 19,
   "id": "2c3605d4",
   "metadata": {},
   "outputs": [],
   "source": [
    "energy_label_test=[]\n",
    "Y_test=[]\n",
    "for pnum in range(len(file_path_set_test)):\n",
    "    try:\n",
    "        eee = get_energy(file_path_set_test[pnum])\n",
    "        eee = [eee]\n",
    "        energy_label.append(eee)\n",
    "        Y_test.append(linear_transform(eee))\n",
    "    except:\n",
    "        print('energy label error: ', file_path_set_test[pnum] )"
   ]
  },
  {
   "cell_type": "code",
   "execution_count": 20,
   "id": "fb6a1807",
   "metadata": {},
   "outputs": [],
   "source": [
    "X_test=[]\n",
    "for pnum in range(len(file_path_set_test)):\n",
    "    try:\n",
    "        X_test.append(model_input_svm(file_path_set_test[pnum]))\n",
    "    except:\n",
    "        print('inputX error:', file_path_set_test[pnum])"
   ]
  },
  {
   "cell_type": "code",
   "execution_count": 21,
   "id": "61132fc6",
   "metadata": {},
   "outputs": [],
   "source": [
    "svr_lin = SVR(kernel=\"linear\", C=100, gamma=\"auto\")\n",
    "svr_poly = SVR(kernel=\"poly\", C=100, gamma=\"auto\", degree=3, epsilon=0.1, coef0=1)"
   ]
  },
  {
   "cell_type": "code",
   "execution_count": 28,
   "id": "b4c6ba80",
   "metadata": {},
   "outputs": [],
   "source": [
    "def cal_MAE(predict, label):\n",
    "    MAEerr=[]\n",
    "    for i in range(len(label)):\n",
    "        err = inverse_transform(predict[i]) - inverse_transform(label[i])\n",
    "        MAEerr.append(err)\n",
    "    out = np.mean(np.abs(np.asarray(MAEerr)))\n",
    "    return out"
   ]
  },
  {
   "cell_type": "code",
   "execution_count": 33,
   "id": "7cfbef41",
   "metadata": {},
   "outputs": [
    {
     "name": "stderr",
     "output_type": "stream",
     "text": [
      "/Users/junjiehu/opt/anaconda3/envs/ML/lib/python3.8/site-packages/sklearn/utils/validation.py:1111: DataConversionWarning: A column-vector y was passed when a 1d array was expected. Please change the shape of y to (n_samples, ), for example using ravel().\n",
      "  y = column_or_1d(y, warn=True)\n"
     ]
    },
    {
     "data": {
      "text/html": [
       "<style>#sk-container-id-2 {color: black;background-color: white;}#sk-container-id-2 pre{padding: 0;}#sk-container-id-2 div.sk-toggleable {background-color: white;}#sk-container-id-2 label.sk-toggleable__label {cursor: pointer;display: block;width: 100%;margin-bottom: 0;padding: 0.3em;box-sizing: border-box;text-align: center;}#sk-container-id-2 label.sk-toggleable__label-arrow:before {content: \"▸\";float: left;margin-right: 0.25em;color: #696969;}#sk-container-id-2 label.sk-toggleable__label-arrow:hover:before {color: black;}#sk-container-id-2 div.sk-estimator:hover label.sk-toggleable__label-arrow:before {color: black;}#sk-container-id-2 div.sk-toggleable__content {max-height: 0;max-width: 0;overflow: hidden;text-align: left;background-color: #f0f8ff;}#sk-container-id-2 div.sk-toggleable__content pre {margin: 0.2em;color: black;border-radius: 0.25em;background-color: #f0f8ff;}#sk-container-id-2 input.sk-toggleable__control:checked~div.sk-toggleable__content {max-height: 200px;max-width: 100%;overflow: auto;}#sk-container-id-2 input.sk-toggleable__control:checked~label.sk-toggleable__label-arrow:before {content: \"▾\";}#sk-container-id-2 div.sk-estimator input.sk-toggleable__control:checked~label.sk-toggleable__label {background-color: #d4ebff;}#sk-container-id-2 div.sk-label input.sk-toggleable__control:checked~label.sk-toggleable__label {background-color: #d4ebff;}#sk-container-id-2 input.sk-hidden--visually {border: 0;clip: rect(1px 1px 1px 1px);clip: rect(1px, 1px, 1px, 1px);height: 1px;margin: -1px;overflow: hidden;padding: 0;position: absolute;width: 1px;}#sk-container-id-2 div.sk-estimator {font-family: monospace;background-color: #f0f8ff;border: 1px dotted black;border-radius: 0.25em;box-sizing: border-box;margin-bottom: 0.5em;}#sk-container-id-2 div.sk-estimator:hover {background-color: #d4ebff;}#sk-container-id-2 div.sk-parallel-item::after {content: \"\";width: 100%;border-bottom: 1px solid gray;flex-grow: 1;}#sk-container-id-2 div.sk-label:hover label.sk-toggleable__label {background-color: #d4ebff;}#sk-container-id-2 div.sk-serial::before {content: \"\";position: absolute;border-left: 1px solid gray;box-sizing: border-box;top: 0;bottom: 0;left: 50%;z-index: 0;}#sk-container-id-2 div.sk-serial {display: flex;flex-direction: column;align-items: center;background-color: white;padding-right: 0.2em;padding-left: 0.2em;position: relative;}#sk-container-id-2 div.sk-item {position: relative;z-index: 1;}#sk-container-id-2 div.sk-parallel {display: flex;align-items: stretch;justify-content: center;background-color: white;position: relative;}#sk-container-id-2 div.sk-item::before, #sk-container-id-2 div.sk-parallel-item::before {content: \"\";position: absolute;border-left: 1px solid gray;box-sizing: border-box;top: 0;bottom: 0;left: 50%;z-index: -1;}#sk-container-id-2 div.sk-parallel-item {display: flex;flex-direction: column;z-index: 1;position: relative;background-color: white;}#sk-container-id-2 div.sk-parallel-item:first-child::after {align-self: flex-end;width: 50%;}#sk-container-id-2 div.sk-parallel-item:last-child::after {align-self: flex-start;width: 50%;}#sk-container-id-2 div.sk-parallel-item:only-child::after {width: 0;}#sk-container-id-2 div.sk-dashed-wrapped {border: 1px dashed gray;margin: 0 0.4em 0.5em 0.4em;box-sizing: border-box;padding-bottom: 0.4em;background-color: white;}#sk-container-id-2 div.sk-label label {font-family: monospace;font-weight: bold;display: inline-block;line-height: 1.2em;}#sk-container-id-2 div.sk-label-container {text-align: center;}#sk-container-id-2 div.sk-container {/* jupyter's `normalize.less` sets `[hidden] { display: none; }` but bootstrap.min.css set `[hidden] { display: none !important; }` so we also need the `!important` here to be able to override the default hidden behavior on the sphinx rendered scikit-learn.org. See: https://github.com/scikit-learn/scikit-learn/issues/21755 */display: inline-block !important;position: relative;}#sk-container-id-2 div.sk-text-repr-fallback {display: none;}</style><div id=\"sk-container-id-2\" class=\"sk-top-container\"><div class=\"sk-text-repr-fallback\"><pre>SVR(C=100, gamma=&#x27;auto&#x27;, kernel=&#x27;linear&#x27;)</pre><b>In a Jupyter environment, please rerun this cell to show the HTML representation or trust the notebook. <br />On GitHub, the HTML representation is unable to render, please try loading this page with nbviewer.org.</b></div><div class=\"sk-container\" hidden><div class=\"sk-item\"><div class=\"sk-estimator sk-toggleable\"><input class=\"sk-toggleable__control sk-hidden--visually\" id=\"sk-estimator-id-2\" type=\"checkbox\" checked><label for=\"sk-estimator-id-2\" class=\"sk-toggleable__label sk-toggleable__label-arrow\">SVR</label><div class=\"sk-toggleable__content\"><pre>SVR(C=100, gamma=&#x27;auto&#x27;, kernel=&#x27;linear&#x27;)</pre></div></div></div></div></div>"
      ],
      "text/plain": [
       "SVR(C=100, gamma='auto', kernel='linear')"
      ]
     },
     "execution_count": 33,
     "metadata": {},
     "output_type": "execute_result"
    }
   ],
   "source": [
    "svr_lin.fit(np.asarray(X_train), np.asarray(Y_train))"
   ]
  },
  {
   "cell_type": "code",
   "execution_count": 34,
   "id": "eb9f0786",
   "metadata": {},
   "outputs": [],
   "source": [
    "y_predict_lin_train = svr_lin.predict(X_train)"
   ]
  },
  {
   "cell_type": "code",
   "execution_count": 35,
   "id": "751535ab",
   "metadata": {},
   "outputs": [
    {
     "data": {
      "text/plain": [
       "3.743383077789738"
      ]
     },
     "execution_count": 35,
     "metadata": {},
     "output_type": "execute_result"
    }
   ],
   "source": [
    "cal_MAE(y_predict_lin_train, Y_train)"
   ]
  },
  {
   "cell_type": "code",
   "execution_count": 36,
   "id": "5675dc1c",
   "metadata": {},
   "outputs": [],
   "source": [
    "y_predict_lin_test = svr_lin.predict(X_test)"
   ]
  },
  {
   "cell_type": "code",
   "execution_count": 37,
   "id": "35b27185",
   "metadata": {},
   "outputs": [
    {
     "data": {
      "text/plain": [
       "28.026347338634597"
      ]
     },
     "execution_count": 37,
     "metadata": {},
     "output_type": "execute_result"
    }
   ],
   "source": [
    "cal_MAE(y_predict_lin_test,Y_test)"
   ]
  },
  {
   "cell_type": "code",
   "execution_count": 38,
   "id": "81c3644b",
   "metadata": {},
   "outputs": [
    {
     "data": {
      "text/plain": [
       "{'C': 100,\n",
       " 'cache_size': 200,\n",
       " 'coef0': 0.0,\n",
       " 'degree': 3,\n",
       " 'epsilon': 0.1,\n",
       " 'gamma': 'auto',\n",
       " 'kernel': 'linear',\n",
       " 'max_iter': -1,\n",
       " 'shrinking': True,\n",
       " 'tol': 0.001,\n",
       " 'verbose': False}"
      ]
     },
     "execution_count": 38,
     "metadata": {},
     "output_type": "execute_result"
    }
   ],
   "source": [
    "svr_lin.get_params()\n",
    "        "
   ]
  },
  {
   "cell_type": "code",
   "execution_count": 39,
   "id": "d3b9c085",
   "metadata": {},
   "outputs": [],
   "source": [
    "dir_file = '/Users/junjiehu/Mlearning/MaterialsML/DFT-bluk-cpx222/'"
   ]
  },
  {
   "cell_type": "code",
   "execution_count": 40,
   "id": "6fa7aad3",
   "metadata": {},
   "outputs": [],
   "source": [
    "flag_set=[]\n",
    "file_path_set=[]\n",
    "work_path=dir_file\n",
    "for m1,n1,fname in os.walk(work_path):\n",
    "    for ieach in n1:\n",
    "        flag_set.append(ieach)\n",
    "        ieach=work_path+ieach\n",
    "        file_path_set.append(ieach)"
   ]
  },
  {
   "cell_type": "code",
   "execution_count": 41,
   "id": "88a8dd80",
   "metadata": {},
   "outputs": [],
   "source": [
    "energy_label=[]\n",
    "Y=[]\n",
    "for pnum in range(len(file_path_set)):\n",
    "    try:\n",
    "        eee = get_energy(file_path_set[pnum])\n",
    "        eee = [eee]\n",
    "        energy_label.append(eee)\n",
    "        Y.append(linear_transform(eee))\n",
    "    except:\n",
    "        print('energy label error: ', file_path_set[pnum] )"
   ]
  },
  {
   "cell_type": "code",
   "execution_count": 42,
   "id": "68c713de",
   "metadata": {},
   "outputs": [],
   "source": [
    "X=[]\n",
    "for pnum in range(len(file_path_set)):\n",
    "    try:\n",
    "        X.append(model_input_svm(file_path_set[pnum]))\n",
    "    except:\n",
    "        print('inputX error:', file_path_set[pnum])"
   ]
  },
  {
   "cell_type": "code",
   "execution_count": 49,
   "id": "2e005c6f",
   "metadata": {},
   "outputs": [],
   "source": [
    "XXX1=np.asarray(X_test)[:500]"
   ]
  },
  {
   "cell_type": "code",
   "execution_count": 50,
   "id": "18a4927c",
   "metadata": {},
   "outputs": [
    {
     "data": {
      "text/plain": [
       "(500, 784)"
      ]
     },
     "execution_count": 50,
     "metadata": {},
     "output_type": "execute_result"
    }
   ],
   "source": [
    "XXX1.shape"
   ]
  },
  {
   "cell_type": "code",
   "execution_count": 47,
   "id": "d87ab59a",
   "metadata": {},
   "outputs": [],
   "source": [
    "XXX = np.asarray(X_test)[500:]"
   ]
  },
  {
   "cell_type": "code",
   "execution_count": 48,
   "id": "6562a236",
   "metadata": {},
   "outputs": [
    {
     "data": {
      "text/plain": [
       "(1000, 784)"
      ]
     },
     "execution_count": 48,
     "metadata": {},
     "output_type": "execute_result"
    }
   ],
   "source": [
    "XXX.shape"
   ]
  },
  {
   "cell_type": "code",
   "execution_count": 51,
   "id": "ddf6183c",
   "metadata": {},
   "outputs": [],
   "source": [
    "y_predict = svr_lin.predict(XXX)"
   ]
  },
  {
   "cell_type": "code",
   "execution_count": 52,
   "id": "5ffa7037",
   "metadata": {},
   "outputs": [
    {
     "data": {
      "text/plain": [
       "15.884865208212169"
      ]
     },
     "execution_count": 52,
     "metadata": {},
     "output_type": "execute_result"
    }
   ],
   "source": [
    "cal_MAE(y_predict,Y)"
   ]
  },
  {
   "cell_type": "code",
   "execution_count": 53,
   "id": "e0fdd5c1",
   "metadata": {},
   "outputs": [],
   "source": [
    "import numpy as np\n",
    "import os\n",
    "from sklearn.manifold import TSNE"
   ]
  },
  {
   "cell_type": "code",
   "execution_count": 54,
   "id": "3f7fc4b0",
   "metadata": {},
   "outputs": [],
   "source": [
    "def extract(flodername):    \n",
    "    with open(flodername+'/'+'CONTCAR') as f:\n",
    "        lol=[line.strip().split('\\n') for line in f]#逐行读取，并存储为数组结构\n",
    "    matr_s_o=[]#存放晶格常数的3*3数组    \n",
    "    matr_o=[]\n",
    "    \n",
    "    formula_element=''#存放原子类型\n",
    "    amount_element=''#存放晶胞中原子个数\n",
    "    \n",
    "    matr_data_o=[]\n",
    "    matr_data_0=[]\n",
    "    matr_data=[]\n",
    "    for i in lol[2:5]:\n",
    "\n",
    "        jjj=[]\n",
    "\n",
    "        for j in i[0].split(' '):\n",
    "            if j !='':\n",
    "                jjj.append(j)\n",
    "\n",
    "        matr_s_o.append(jjj)\n",
    "   \n",
    "    for k in matr_s_o:\n",
    "        matr_o.append([float(l) for l in k])\n",
    "    \n",
    "    amount_element=lol[5]\n",
    "    \n",
    "    for n in lol[9:49]:#文件第10行开始读数据\n",
    "\n",
    "        n[0]=n[0][:-10]\n",
    "        mmm=[]\n",
    "        for m in n[0].split(' '):\n",
    "        #        print(m)\n",
    "            if m !='':\n",
    "                mmm.append(m)\n",
    "           # print(mmm)\n",
    "        matr_data_o.append(mmm)\n",
    "        \n",
    "    for p in matr_data_o:\n",
    "        matr_data_0.append([float(q) for q in p]) \n",
    "    \n",
    "    matr_out=matr_o\n",
    "    amount_element_out=amount_element[0]\n",
    "    matr_data_0=matr_data_0\n",
    "    \n",
    "    return matr_out, amount_element_out, matr_data_0"
   ]
  },
  {
   "cell_type": "code",
   "execution_count": 58,
   "id": "4c2f4557",
   "metadata": {},
   "outputs": [],
   "source": [
    "DFT_label=inverse_transform(np.asarray(Y))"
   ]
  },
  {
   "cell_type": "code",
   "execution_count": 59,
   "id": "ee80c3c8",
   "metadata": {},
   "outputs": [],
   "source": [
    "svr_predict=inverse_transform(np.asarray(y_predict))"
   ]
  },
  {
   "cell_type": "code",
   "execution_count": 60,
   "id": "402360c4",
   "metadata": {},
   "outputs": [],
   "source": [
    "import numpy as np\n",
    "import matplotlib.pyplot as plt\n",
    "from matplotlib import cm\n",
    "from matplotlib.backends.backend_pdf import PdfPages"
   ]
  },
  {
   "cell_type": "code",
   "execution_count": 62,
   "id": "9c2c7cf4",
   "metadata": {},
   "outputs": [],
   "source": [
    "def get_tSNE_input(path_):\n",
    "    input_vector_poscar=[]\n",
    "    a,b,c=extract(path_)\n",
    "    #energy=get_energy(path_)\n",
    "    siteZero=np.asarray([0.5,0.5,0.5])\n",
    "    Br_I_atoms=c[16:]\n",
    "    coordinate=np.dot(np.asarray(Br_I_atoms),np.asarray(a))\n",
    "    #print(len(coordinate))\n",
    "    for i in range(len(coordinate)):\n",
    "        input_vector=[]\n",
    "        if i <=18:\n",
    "            #print(coordinate[i])\n",
    "            input_vector.append(2.8)\n",
    "            for x in coordinate[i]:\n",
    "                input_vector.append(x)\n",
    "            input_vector_poscar.append(input_vector)\n",
    "        else:\n",
    "            input_vector.append(2.5)\n",
    "            for x in coordinate[i]:\n",
    "                input_vector.append(x)\n",
    "            input_vector_poscar.append(input_vector)\n",
    "    input_vector_poscar=np.asarray(input_vector_poscar)\n",
    "    input_vector_poscar=input_vector_poscar.reshape((24*4),order=\"C\")\n",
    "    return input_vector_poscar"
   ]
  },
  {
   "cell_type": "code",
   "execution_count": 63,
   "id": "6fb600d2",
   "metadata": {},
   "outputs": [],
   "source": [
    "tSNE_input=[]\n",
    "for pnum in range(len(file_path_set)):\n",
    "    try:\n",
    "        path_=file_path_set[pnum]\n",
    "        tSNE_input.append(get_tSNE_input(path_))\n",
    "    except:\n",
    "        print('error:',file_path_set[pnum])"
   ]
  },
  {
   "cell_type": "code",
   "execution_count": 65,
   "id": "52d761b2",
   "metadata": {},
   "outputs": [],
   "source": [
    "tsne = TSNE(min_grad_norm=1e-3,init='pca',method='exact',angle=1,early_exaggeration=5,n_iter=1000)"
   ]
  },
  {
   "cell_type": "code",
   "execution_count": 66,
   "id": "0a75d33b",
   "metadata": {},
   "outputs": [],
   "source": [
    "tSNE_input = np.asarray(tSNE_input)"
   ]
  },
  {
   "cell_type": "code",
   "execution_count": 67,
   "id": "16bf53c2",
   "metadata": {},
   "outputs": [
    {
     "name": "stderr",
     "output_type": "stream",
     "text": [
      "/Users/junjiehu/opt/anaconda3/envs/ML/lib/python3.8/site-packages/sklearn/manifold/_t_sne.py:810: FutureWarning: The default learning rate in TSNE will change from 200.0 to 'auto' in 1.2.\n",
      "  warnings.warn(\n",
      "/Users/junjiehu/opt/anaconda3/envs/ML/lib/python3.8/site-packages/sklearn/manifold/_t_sne.py:996: FutureWarning: The PCA initialization in TSNE will change to have the standard deviation of PC1 equal to 1e-4 in 1.2. This will ensure better convergence.\n",
      "  warnings.warn(\n"
     ]
    }
   ],
   "source": [
    "tsne_output = tsne.fit_transform(tSNE_input)"
   ]
  },
  {
   "cell_type": "code",
   "execution_count": 68,
   "id": "2e80ee02",
   "metadata": {},
   "outputs": [],
   "source": [
    "lx = tsne_output.T[0]\n",
    "ly = tsne_output.T[1]"
   ]
  },
  {
   "cell_type": "code",
   "execution_count": 69,
   "id": "7b75dff4",
   "metadata": {},
   "outputs": [
    {
     "name": "stdout",
     "output_type": "stream",
     "text": [
      "minimum: -212.52725342396917\n",
      "maximum: 240.35241228934112\n",
      "scale: 452.87966571331026\n",
      "-212.52725342396917 -121.95132028130712 -31.375387138645067 59.200546004016985 149.77647914667904 240.35241228934112\n"
     ]
    }
   ],
   "source": [
    "minz = np.min(svr_predict)\n",
    "maxz = np.max(svr_predict)\n",
    "print('minimum:',minz)\n",
    "print('maximum:',maxz)\n",
    "print('scale:',maxz-minz)\n",
    "a1 = minz + 0.2 * (maxz-minz)\n",
    "a2 = minz + 0.4 * (maxz-minz)\n",
    "a3 = minz + 0.6 * (maxz-minz)\n",
    "a4 = minz + 0.8 * (maxz-minz)\n",
    "print(minz,a1,a2,a3,a4,maxz)"
   ]
  },
  {
   "cell_type": "code",
   "execution_count": 72,
   "id": "4516624c",
   "metadata": {},
   "outputs": [
    {
     "data": {
      "image/png": "[encoded data removed]",
      "text/plain": [
       "<Figure size 612x432 with 2 Axes>"
      ]
     },
     "metadata": {
      "needs_background": "light"
     },
     "output_type": "display_data"
    }
   ],
   "source": [
    "f=plt.figure(figsize=(8.5,6))\n",
    "ax1=plt.gca()\n",
    "\n",
    "#j=1088\n",
    "for i in range(len(lx)):\n",
    "    color1=cm.viridis_r(int(256*(svr_predict[i]-minz)/(maxz-minz)))\n",
    "    a1=ax1.scatter(lx[i],ly[i],color=color1,s=50)\n",
    "    #d=np.sqrt((x[i]-x[j])**2+(y[i]-y[j])**2)\n",
    "cb=plt.colorbar(a1,ax=ax1,shrink=0.92,pad=0.03)\n",
    "cb.set_ticks([0,0.2,0.4,0.6,0.8,1])\n",
    "cb.ax.set_yticklabels(['-212.53', '-121.95', '-31.38', '59.20', '149.78', '240.35'])\n",
    "cb.ax.tick_params(labelsize=18)\n",
    "ax1.set_xlabel('SVR: Latent dimension 1',fontdict={'family':'Times New Roman','size':'26','fontstyle':'normal','fontweight':'normal'})\n",
    "ax1.set_ylabel('Latent dimension 2',labelpad=0,fontdict={'family':'Times New Roman','size':'26','fontstyle':'normal','fontweight':'normal'})\n",
    "ax1.tick_params(labelsize=22)\n",
    "ax1.spines['bottom'].set_linewidth(2)\n",
    "ax1.spines['top'].set_linewidth(2)\n",
    "ax1.spines['left'].set_linewidth(2)\n",
    "ax1.spines['right'].set_linewidth(2)\n",
    "ax1.set_xticks(())\n",
    "ax1.set_yticks(())\n",
    "plt.savefig('SVRmodel-3.jpg')"
   ]
  },
  {
   "cell_type": "code",
   "execution_count": null,
   "id": "def9b526",
   "metadata": {},
   "outputs": [
    {
     "name": "stderr",
     "output_type": "stream",
     "text": [
      "/Users/junjiehu/opt/anaconda3/envs/ML/lib/python3.8/site-packages/sklearn/utils/validation.py:1111: DataConversionWarning: A column-vector y was passed when a 1d array was expected. Please change the shape of y to (n_samples, ), for example using ravel().\n",
      "  y = column_or_1d(y, warn=True)\n"
     ]
    }
   ],
   "source": [
    "svr_poly.fit(np.asarray(X_train), np.asarray(Y_train))"
   ]
  },
  {
   "cell_type": "code",
   "execution_count": null,
   "id": "bde363ab",
   "metadata": {},
   "outputs": [],
   "source": []
  },
  {
   "cell_type": "code",
   "execution_count": null,
   "id": "76133982",
   "metadata": {},
   "outputs": [],
   "source": [
    " ."
   ]
  }
 ],
 "metadata": {
  "kernelspec": {
   "display_name": "ML",
   "language": "python",
   "name": "ml"
  },
  "language_info": {
   "codemirror_mode": {
    "name": "ipython",
    "version": 3
   },
   "file_extension": ".py",
   "mimetype": "text/x-python",
   "name": "python",
   "nbconvert_exporter": "python",
   "pygments_lexer": "ipython3",
   "version": "3.8.10"
  }
 },
 "nbformat": 4,
 "nbformat_minor": 5
}
