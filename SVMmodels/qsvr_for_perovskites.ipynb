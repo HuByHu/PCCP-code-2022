{
 "cells": [
  {
   "cell_type": "code",
   "execution_count": 2,
   "id": "756f08c6",
   "metadata": {},
   "outputs": [],
   "source": [
    "import qiskit"
   ]
  },
  {
   "cell_type": "code",
   "execution_count": 3,
   "id": "e4b44496",
   "metadata": {},
   "outputs": [],
   "source": [
    "from qiskit_machine_learning.algorithms import regressors"
   ]
  },
  {
   "cell_type": "code",
   "execution_count": 4,
   "id": "931cba5a",
   "metadata": {},
   "outputs": [],
   "source": [
    "import numpy as np"
   ]
  },
  {
   "cell_type": "code",
   "execution_count": 1,
   "id": "1c58314c",
   "metadata": {},
   "outputs": [],
   "source": [
    "from qiskit import BasicAer\n",
    "from qiskit.utils import QuantumInstance, algorithm_globals\n",
    "from qiskit.algorithms.optimizers import COBYLA\n",
    "from qiskit.circuit.library import TwoLocal, ZZFeatureMap"
   ]
  },
  {
   "cell_type": "code",
   "execution_count": 5,
   "id": "b563906b",
   "metadata": {},
   "outputs": [],
   "source": [
    "import pymatgen as mg\n",
    "import pymatgen.analysis.diffraction as anadi\n",
    "import pymatgen.analysis.diffraction.xrd as xrd\n",
    "import numpy as np\n",
    "import os\n",
    "import re\n",
    "import matplotlib.pyplot as plt"
   ]
  },
  {
   "cell_type": "code",
   "execution_count": 23,
   "id": "2d14a07e",
   "metadata": {},
   "outputs": [],
   "source": [
    "from qiskit_machine_learning.kernels import QuantumKernel"
   ]
  },
  {
   "cell_type": "code",
   "execution_count": 7,
   "id": "0fcc190d",
   "metadata": {},
   "outputs": [],
   "source": [
    "patt_xrd = xrd.XRDCalculator('CuKa')"
   ]
  },
  {
   "cell_type": "code",
   "execution_count": 8,
   "id": "eacd0f6d",
   "metadata": {},
   "outputs": [],
   "source": [
    "train_path='/Users/junjiehu/Desktop/202210test/train/'\n",
    "\n",
    "test_path='/Users/junjiehu/Desktop/202210test/test/'"
   ]
  },
  {
   "cell_type": "code",
   "execution_count": 19,
   "id": "b8ee6359",
   "metadata": {},
   "outputs": [],
   "source": [
    "base_pxrd_s=mg.core.Structure.from_file(train_path+'00000/CONTCAR')\n",
    "base_pxrd=patt_xrd.get_pattern(base_pxrd_s)"
   ]
  },
  {
   "cell_type": "code",
   "execution_count": 9,
   "id": "83e5777e",
   "metadata": {},
   "outputs": [],
   "source": [
    "global sample_num, rmat_num, series_num\n",
    "sample_num=1 #output of G\n",
    "rmat_num=32 "
   ]
  },
  {
   "cell_type": "code",
   "execution_count": 6,
   "id": "318e2884",
   "metadata": {},
   "outputs": [],
   "source": [
    "def get_energy(folder):\n",
    "    energy_string=os.popen('grep TOTEN '+folder+'/OUTCAR | tail -1').read().split(' ')[-2]\n",
    "    energy=round(np.float64(float(energy_string)),5)\n",
    "    return energy\n",
    "\n",
    "def linear_transform(energy):\n",
    "    global extend_num, move_num\n",
    "    energy_transform=(energy-move_num)*extend_num\n",
    "    return energy_transform\n",
    "\n",
    "def inverse_transform(energy_transform):\n",
    "    global extend_num, move_num\n",
    "    energy=energy_transform/extend_num+move_num\n",
    "    return energy\n",
    "\n",
    "def get_energy_per_atom(energy):\n",
    "    energy_per_atom=energy/atoms_num\n",
    "    return energy_per_atom"
   ]
  },
  {
   "cell_type": "code",
   "execution_count": 10,
   "id": "5a2ce0dc",
   "metadata": {},
   "outputs": [],
   "source": [
    "global extend_num, move_num"
   ]
  },
  {
   "cell_type": "code",
   "execution_count": 11,
   "id": "c0364df2",
   "metadata": {},
   "outputs": [],
   "source": [
    "extend_num=1000"
   ]
  },
  {
   "cell_type": "code",
   "execution_count": 12,
   "id": "302f2b5e",
   "metadata": {},
   "outputs": [
    {
     "name": "stdout",
     "output_type": "stream",
     "text": [
      "-122.69044\n"
     ]
    }
   ],
   "source": [
    "move_num=get_energy(train_path+'00000/')\n",
    "print(move_num)"
   ]
  },
  {
   "cell_type": "code",
   "execution_count": 16,
   "id": "eeb925fd",
   "metadata": {},
   "outputs": [],
   "source": [
    "def tomgStructure(folder):\n",
    "    POSfile = folder+'/CONTCAR'      \n",
    "    R_mgS = mg.core.Structure.from_file(POSfile)\n",
    "    return R_mgS\n",
    "\n",
    "###\n",
    "##input_data_to_model\n",
    "###\n",
    "def get_xrdmat3(mgStructure):\n",
    "    global rmat_num\n",
    "    xrd_data4 = patt_xrd.get_pattern(mgStructure)\n",
    "    xrd_data4.y= xrd_data4.y-base_pxrd.y\n",
    "    i_column = rmat_num\n",
    "    xxx = []\n",
    "    yyy = []\n",
    "    mat4 = []\n",
    "    xrd_i = len(xrd_data4)\n",
    "    for i in range(xrd_i):\n",
    "        if abs(xrd_data4.y[i]) > 0.00001:\n",
    "            xxx.append(xrd_data4.x[i])\n",
    "            yyy.append(xrd_data4.y[i])\n",
    "    mat4.append(np.asarray(xxx))\n",
    "    mat4.append(np.asarray(yyy))\n",
    "    mat4 = np.asarray(mat4)\n",
    "    \n",
    "    xrd_x=[]\n",
    "    xrd_y=[]\n",
    "    xrd_mat4=[]\n",
    "    xrow=len(mat4[0])\n",
    "    \n",
    "    if xrow < i_column:\n",
    "        for i in mat4[0]:\n",
    "            xrd_x.append(i)\n",
    "        for j in mat4[1]:\n",
    "            xrd_y.append(j)\n",
    "        for i in range(0,i_column-xrow):\n",
    "            xrd_x.append(0)\n",
    "            xrd_y.append(0)\n",
    "        xrd_x=np.asarray(xrd_x)\n",
    "        xrd_y=np.asarray(xrd_y)\n",
    "    if xrow > i_column:\n",
    "        xrd_x=mat4[0][:i_column]\n",
    "        xrd_y=mat4[1][:i_column]\n",
    "    if xrow == i_column:\n",
    "        xrd_x= mat4[0]\n",
    "        xrd_y= mat4[1]\n",
    "        \n",
    "    \n",
    "    xrd_x=np.sin(np.dot(1/180*np.pi,xrd_x))\n",
    "    xrd_y=np.dot(100,xrd_y)\n",
    "    xrd_mat4.append(xrd_x)\n",
    "    xrd_mat4.append(xrd_y)\n",
    "    xrd_mat4=np.array(xrd_mat4)\n",
    "    return xrd_mat4\n",
    "###\n",
    "##input_data_as_knowlegde\n",
    "###\n",
    "'''\n",
    "def get_Gibbs(folder):\n",
    "    energy_string=os.popen('grep TOTEN '+folder+'/OUTCAR | tail -1').read().split(' ')[-2]\n",
    "    Gibbs=np.float64(float(energy_string))\n",
    "    Gibbs=round(Gibbs,6)\n",
    "    return Gibbs\n",
    "'''\n",
    "##\n",
    "###\n",
    "def get_atoms_num(folder2):\n",
    "    xxx=tomgStructure(folder2)\n",
    "    anum=len(xxx.sites)\n",
    "    return anum\n",
    "\n",
    "\n",
    "###\n",
    "##input_data_for_G\n",
    "###\n",
    "def QSVMmat(Random_Structure):\n",
    "    global rmat_num\n",
    "    RS_xrdmat = get_xrdmat3(Random_Structure)\n",
    "    multimat3_RS =  np.zeros((rmat_num, 2),dtype='float32')\n",
    "    multimat3_RS = np.asarray(RS_xrdmat.T)\n",
    "    return multimat3_RS"
   ]
  },
  {
   "cell_type": "code",
   "execution_count": 17,
   "id": "afbe83fe",
   "metadata": {},
   "outputs": [],
   "source": [
    "def model_input_svm(floder):\n",
    "    #input\n",
    "    model_input=[]\n",
    "    model_input_mgs=tomgStructure(floder)\n",
    "    model_input_mgs=QSVMmat(model_input_mgs)\n",
    "    model_input.append(model_input_mgs)\n",
    "    model_input=np.asarray(model_input)\n",
    "    model_input=model_input.reshape(model_input.size)\n",
    "    return model_input"
   ]
  },
  {
   "cell_type": "code",
   "execution_count": 22,
   "id": "dff71e6b",
   "metadata": {},
   "outputs": [
    {
     "data": {
      "text/plain": [
       "(64,)"
      ]
     },
     "execution_count": 22,
     "metadata": {},
     "output_type": "execute_result"
    }
   ],
   "source": [
    "(model_input_svm(train_path+'00445')).shape"
   ]
  },
  {
   "cell_type": "code",
   "execution_count": 27,
   "id": "9819047e",
   "metadata": {},
   "outputs": [],
   "source": [
    "seed = 1376\n",
    "algorithm_globals.random_seed = seed"
   ]
  },
  {
   "cell_type": "code",
   "execution_count": 24,
   "id": "bcb16858",
   "metadata": {},
   "outputs": [],
   "source": [
    "adhoc_dimension = 6"
   ]
  },
  {
   "cell_type": "code",
   "execution_count": 25,
   "id": "baf8217d",
   "metadata": {},
   "outputs": [],
   "source": [
    "adhoc_feature_map = ZZFeatureMap(feature_dimension=adhoc_dimension, reps=2, entanglement=\"linear\")"
   ]
  },
  {
   "cell_type": "code",
   "execution_count": 28,
   "id": "1c1146c3",
   "metadata": {},
   "outputs": [],
   "source": [
    "adhoc_backend = QuantumInstance(\n",
    "    BasicAer.get_backend(\"qasm_simulator\"), shots=1024, seed_simulator=seed, seed_transpiler=seed\n",
    ")"
   ]
  },
  {
   "cell_type": "code",
   "execution_count": 29,
   "id": "f59956bf",
   "metadata": {},
   "outputs": [],
   "source": [
    "adhoc_kernel = QuantumKernel(feature_map=adhoc_feature_map, quantum_instance=adhoc_backend)"
   ]
  },
  {
   "cell_type": "code",
   "execution_count": 30,
   "id": "cadb5e61",
   "metadata": {},
   "outputs": [],
   "source": [
    "qsvr1= regressors.QSVR(quantum_kernel=adhoc_kernel)"
   ]
  },
  {
   "cell_type": "code",
   "execution_count": null,
   "id": "c1a1afe1",
   "metadata": {},
   "outputs": [],
   "source": [
    "#training_features, training_labels, test_features, test_labels = \\\n",
    "#    ad_hoc_data(\n",
    "#            training_size=training_size, test_size=test_size, n=feature_dim, gap=0.3)\n",
    "\n"
   ]
  },
  {
   "cell_type": "code",
   "execution_count": 31,
   "id": "fbc19de0",
   "metadata": {},
   "outputs": [],
   "source": [
    "flag_set=[]\n",
    "file_path_set=[]\n",
    "work_path=train_path\n",
    "for m1,n1,fname in os.walk(work_path):\n",
    "    for ieach in n1:\n",
    "        flag_set.append(ieach)\n",
    "        ieach=work_path+ieach\n",
    "        file_path_set.append(ieach)"
   ]
  },
  {
   "cell_type": "code",
   "execution_count": 32,
   "id": "2173303d",
   "metadata": {},
   "outputs": [],
   "source": [
    "energy_label=[]\n",
    "Y_train=[]\n",
    "for pnum in range(len(file_path_set)):\n",
    "    try:\n",
    "        eee = get_energy(file_path_set[pnum])\n",
    "        eee = [eee]\n",
    "        energy_label.append(eee)\n",
    "        Y_train.append(linear_transform(eee))\n",
    "    except:\n",
    "        print('energy label error: ', file_path_set[pnum])"
   ]
  },
  {
   "cell_type": "code",
   "execution_count": 33,
   "id": "e838a382",
   "metadata": {},
   "outputs": [],
   "source": [
    "X_train=[]\n",
    "for pnum in range(len(file_path_set)):\n",
    "    try:\n",
    "        X_train.append(model_input_svm(file_path_set[pnum]))\n",
    "    except:\n",
    "        print('inputX error:', file_path_set[pnum])"
   ]
  },
  {
   "cell_type": "code",
   "execution_count": 34,
   "id": "0bba4b30",
   "metadata": {},
   "outputs": [],
   "source": [
    "flag_set_test=[]\n",
    "file_path_set_test=[]\n",
    "work_path=test_path\n",
    "for m1,n1,fname in os.walk(work_path):\n",
    "    for ieach in n1:\n",
    "        flag_set_test.append(ieach)\n",
    "        ieach=work_path+ieach\n",
    "        file_path_set_test.append(ieach)"
   ]
  },
  {
   "cell_type": "code",
   "execution_count": 35,
   "id": "dddefdd1",
   "metadata": {},
   "outputs": [],
   "source": [
    "energy_label_test=[]\n",
    "Y_test=[]\n",
    "for pnum in range(len(file_path_set_test)):\n",
    "    try:\n",
    "        eee = get_energy(file_path_set_test[pnum])\n",
    "        eee = [eee]\n",
    "        energy_label.append(eee)\n",
    "        Y_test.append(linear_transform(eee))\n",
    "    except:\n",
    "        print('energy label error: ', file_path_set_test[pnum] )"
   ]
  },
  {
   "cell_type": "code",
   "execution_count": 36,
   "id": "934894ec",
   "metadata": {},
   "outputs": [],
   "source": [
    "X_test=[]\n",
    "for pnum in range(len(file_path_set_test)):\n",
    "    try:\n",
    "        X_test.append(model_input_svm(file_path_set_test[pnum]))\n",
    "    except:\n",
    "        print('inputX error:', file_path_set_test[pnum])"
   ]
  },
  {
   "cell_type": "code",
   "execution_count": 38,
   "id": "4aade4cb",
   "metadata": {},
   "outputs": [],
   "source": [
    "from sklearn.decomposition import PCA"
   ]
  },
  {
   "cell_type": "code",
   "execution_count": 39,
   "id": "98377d12",
   "metadata": {},
   "outputs": [],
   "source": [
    "pca1 = PCA(n_components = 6)"
   ]
  },
  {
   "cell_type": "code",
   "execution_count": 40,
   "id": "bf3a7856",
   "metadata": {},
   "outputs": [
    {
     "data": {
      "text/html": [
       "<style>#sk-container-id-1 {color: black;background-color: white;}#sk-container-id-1 pre{padding: 0;}#sk-container-id-1 div.sk-toggleable {background-color: white;}#sk-container-id-1 label.sk-toggleable__label {cursor: pointer;display: block;width: 100%;margin-bottom: 0;padding: 0.3em;box-sizing: border-box;text-align: center;}#sk-container-id-1 label.sk-toggleable__label-arrow:before {content: \"▸\";float: left;margin-right: 0.25em;color: #696969;}#sk-container-id-1 label.sk-toggleable__label-arrow:hover:before {color: black;}#sk-container-id-1 div.sk-estimator:hover label.sk-toggleable__label-arrow:before {color: black;}#sk-container-id-1 div.sk-toggleable__content {max-height: 0;max-width: 0;overflow: hidden;text-align: left;background-color: #f0f8ff;}#sk-container-id-1 div.sk-toggleable__content pre {margin: 0.2em;color: black;border-radius: 0.25em;background-color: #f0f8ff;}#sk-container-id-1 input.sk-toggleable__control:checked~div.sk-toggleable__content {max-height: 200px;max-width: 100%;overflow: auto;}#sk-container-id-1 input.sk-toggleable__control:checked~label.sk-toggleable__label-arrow:before {content: \"▾\";}#sk-container-id-1 div.sk-estimator input.sk-toggleable__control:checked~label.sk-toggleable__label {background-color: #d4ebff;}#sk-container-id-1 div.sk-label input.sk-toggleable__control:checked~label.sk-toggleable__label {background-color: #d4ebff;}#sk-container-id-1 input.sk-hidden--visually {border: 0;clip: rect(1px 1px 1px 1px);clip: rect(1px, 1px, 1px, 1px);height: 1px;margin: -1px;overflow: hidden;padding: 0;position: absolute;width: 1px;}#sk-container-id-1 div.sk-estimator {font-family: monospace;background-color: #f0f8ff;border: 1px dotted black;border-radius: 0.25em;box-sizing: border-box;margin-bottom: 0.5em;}#sk-container-id-1 div.sk-estimator:hover {background-color: #d4ebff;}#sk-container-id-1 div.sk-parallel-item::after {content: \"\";width: 100%;border-bottom: 1px solid gray;flex-grow: 1;}#sk-container-id-1 div.sk-label:hover label.sk-toggleable__label {background-color: #d4ebff;}#sk-container-id-1 div.sk-serial::before {content: \"\";position: absolute;border-left: 1px solid gray;box-sizing: border-box;top: 0;bottom: 0;left: 50%;z-index: 0;}#sk-container-id-1 div.sk-serial {display: flex;flex-direction: column;align-items: center;background-color: white;padding-right: 0.2em;padding-left: 0.2em;position: relative;}#sk-container-id-1 div.sk-item {position: relative;z-index: 1;}#sk-container-id-1 div.sk-parallel {display: flex;align-items: stretch;justify-content: center;background-color: white;position: relative;}#sk-container-id-1 div.sk-item::before, #sk-container-id-1 div.sk-parallel-item::before {content: \"\";position: absolute;border-left: 1px solid gray;box-sizing: border-box;top: 0;bottom: 0;left: 50%;z-index: -1;}#sk-container-id-1 div.sk-parallel-item {display: flex;flex-direction: column;z-index: 1;position: relative;background-color: white;}#sk-container-id-1 div.sk-parallel-item:first-child::after {align-self: flex-end;width: 50%;}#sk-container-id-1 div.sk-parallel-item:last-child::after {align-self: flex-start;width: 50%;}#sk-container-id-1 div.sk-parallel-item:only-child::after {width: 0;}#sk-container-id-1 div.sk-dashed-wrapped {border: 1px dashed gray;margin: 0 0.4em 0.5em 0.4em;box-sizing: border-box;padding-bottom: 0.4em;background-color: white;}#sk-container-id-1 div.sk-label label {font-family: monospace;font-weight: bold;display: inline-block;line-height: 1.2em;}#sk-container-id-1 div.sk-label-container {text-align: center;}#sk-container-id-1 div.sk-container {/* jupyter's `normalize.less` sets `[hidden] { display: none; }` but bootstrap.min.css set `[hidden] { display: none !important; }` so we also need the `!important` here to be able to override the default hidden behavior on the sphinx rendered scikit-learn.org. See: https://github.com/scikit-learn/scikit-learn/issues/21755 */display: inline-block !important;position: relative;}#sk-container-id-1 div.sk-text-repr-fallback {display: none;}</style><div id=\"sk-container-id-1\" class=\"sk-top-container\"><div class=\"sk-text-repr-fallback\"><pre>PCA(n_components=6)</pre><b>In a Jupyter environment, please rerun this cell to show the HTML representation or trust the notebook. <br />On GitHub, the HTML representation is unable to render, please try loading this page with nbviewer.org.</b></div><div class=\"sk-container\" hidden><div class=\"sk-item\"><div class=\"sk-estimator sk-toggleable\"><input class=\"sk-toggleable__control sk-hidden--visually\" id=\"sk-estimator-id-1\" type=\"checkbox\" checked><label for=\"sk-estimator-id-1\" class=\"sk-toggleable__label sk-toggleable__label-arrow\">PCA</label><div class=\"sk-toggleable__content\"><pre>PCA(n_components=6)</pre></div></div></div></div></div>"
      ],
      "text/plain": [
       "PCA(n_components=6)"
      ]
     },
     "execution_count": 40,
     "metadata": {},
     "output_type": "execute_result"
    }
   ],
   "source": [
    "pca1.fit(X_train)"
   ]
  },
  {
   "cell_type": "code",
   "execution_count": 46,
   "id": "b8aafde7",
   "metadata": {},
   "outputs": [],
   "source": [
    "X_train_pca = pca1.transform(X_train)"
   ]
  },
  {
   "cell_type": "code",
   "execution_count": 42,
   "id": "ed40356a",
   "metadata": {},
   "outputs": [],
   "source": [
    "X_test_pca = pca1.transform(X_test)"
   ]
  },
  {
   "cell_type": "code",
   "execution_count": 43,
   "id": "1cbc39c1",
   "metadata": {},
   "outputs": [
    {
     "name": "stdout",
     "output_type": "stream",
     "text": [
      "(500, 6) (500, 6)\n"
     ]
    }
   ],
   "source": [
    "print(X_train_pca.shape,X_test_pca.shape)"
   ]
  },
  {
   "cell_type": "code",
   "execution_count": 48,
   "id": "dd4d6c12",
   "metadata": {},
   "outputs": [
    {
     "name": "stderr",
     "output_type": "stream",
     "text": [
      "/Users/junjiehu/opt/anaconda3/envs/ML/lib/python3.8/site-packages/sklearn/svm/_base.py:296: DataConversionWarning: A column-vector y was passed when a 1d array was expected. Please change the shape of y to (n_samples, ), for example using ravel().\n",
      "  return column_or_1d(y, warn=True).astype(np.float64, copy=False)\n",
      "/Users/junjiehu/opt/anaconda3/envs/ML/lib/python3.8/site-packages/numpy/core/_asarray.py:102: ComplexWarning: Casting complex values to real discards the imaginary part\n",
      "  return array(a, dtype, copy=False, order=order)\n"
     ]
    },
    {
     "data": {
      "text/html": [
       "<style>#sk-container-id-2 {color: black;background-color: white;}#sk-container-id-2 pre{padding: 0;}#sk-container-id-2 div.sk-toggleable {background-color: white;}#sk-container-id-2 label.sk-toggleable__label {cursor: pointer;display: block;width: 100%;margin-bottom: 0;padding: 0.3em;box-sizing: border-box;text-align: center;}#sk-container-id-2 label.sk-toggleable__label-arrow:before {content: \"▸\";float: left;margin-right: 0.25em;color: #696969;}#sk-container-id-2 label.sk-toggleable__label-arrow:hover:before {color: black;}#sk-container-id-2 div.sk-estimator:hover label.sk-toggleable__label-arrow:before {color: black;}#sk-container-id-2 div.sk-toggleable__content {max-height: 0;max-width: 0;overflow: hidden;text-align: left;background-color: #f0f8ff;}#sk-container-id-2 div.sk-toggleable__content pre {margin: 0.2em;color: black;border-radius: 0.25em;background-color: #f0f8ff;}#sk-container-id-2 input.sk-toggleable__control:checked~div.sk-toggleable__content {max-height: 200px;max-width: 100%;overflow: auto;}#sk-container-id-2 input.sk-toggleable__control:checked~label.sk-toggleable__label-arrow:before {content: \"▾\";}#sk-container-id-2 div.sk-estimator input.sk-toggleable__control:checked~label.sk-toggleable__label {background-color: #d4ebff;}#sk-container-id-2 div.sk-label input.sk-toggleable__control:checked~label.sk-toggleable__label {background-color: #d4ebff;}#sk-container-id-2 input.sk-hidden--visually {border: 0;clip: rect(1px 1px 1px 1px);clip: rect(1px, 1px, 1px, 1px);height: 1px;margin: -1px;overflow: hidden;padding: 0;position: absolute;width: 1px;}#sk-container-id-2 div.sk-estimator {font-family: monospace;background-color: #f0f8ff;border: 1px dotted black;border-radius: 0.25em;box-sizing: border-box;margin-bottom: 0.5em;}#sk-container-id-2 div.sk-estimator:hover {background-color: #d4ebff;}#sk-container-id-2 div.sk-parallel-item::after {content: \"\";width: 100%;border-bottom: 1px solid gray;flex-grow: 1;}#sk-container-id-2 div.sk-label:hover label.sk-toggleable__label {background-color: #d4ebff;}#sk-container-id-2 div.sk-serial::before {content: \"\";position: absolute;border-left: 1px solid gray;box-sizing: border-box;top: 0;bottom: 0;left: 50%;z-index: 0;}#sk-container-id-2 div.sk-serial {display: flex;flex-direction: column;align-items: center;background-color: white;padding-right: 0.2em;padding-left: 0.2em;position: relative;}#sk-container-id-2 div.sk-item {position: relative;z-index: 1;}#sk-container-id-2 div.sk-parallel {display: flex;align-items: stretch;justify-content: center;background-color: white;position: relative;}#sk-container-id-2 div.sk-item::before, #sk-container-id-2 div.sk-parallel-item::before {content: \"\";position: absolute;border-left: 1px solid gray;box-sizing: border-box;top: 0;bottom: 0;left: 50%;z-index: -1;}#sk-container-id-2 div.sk-parallel-item {display: flex;flex-direction: column;z-index: 1;position: relative;background-color: white;}#sk-container-id-2 div.sk-parallel-item:first-child::after {align-self: flex-end;width: 50%;}#sk-container-id-2 div.sk-parallel-item:last-child::after {align-self: flex-start;width: 50%;}#sk-container-id-2 div.sk-parallel-item:only-child::after {width: 0;}#sk-container-id-2 div.sk-dashed-wrapped {border: 1px dashed gray;margin: 0 0.4em 0.5em 0.4em;box-sizing: border-box;padding-bottom: 0.4em;background-color: white;}#sk-container-id-2 div.sk-label label {font-family: monospace;font-weight: bold;display: inline-block;line-height: 1.2em;}#sk-container-id-2 div.sk-label-container {text-align: center;}#sk-container-id-2 div.sk-container {/* jupyter's `normalize.less` sets `[hidden] { display: none; }` but bootstrap.min.css set `[hidden] { display: none !important; }` so we also need the `!important` here to be able to override the default hidden behavior on the sphinx rendered scikit-learn.org. See: https://github.com/scikit-learn/scikit-learn/issues/21755 */display: inline-block !important;position: relative;}#sk-container-id-2 div.sk-text-repr-fallback {display: none;}</style><div id=\"sk-container-id-2\" class=\"sk-top-container\"><div class=\"sk-text-repr-fallback\"><pre>QSVR(C=1.0, cache_size=200, coef0=0.0, degree=3, epsilon=0.1, gamma=&#x27;scale&#x27;,\n",
       "     max_iter=-1,\n",
       "     quantum_kernel=&lt;qiskit_machine_learning.kernels.quantum_kernel.QuantumKernel object at 0x7fed0999bfd0&gt;,\n",
       "     shrinking=True, tol=0.001, verbose=False)</pre><b>In a Jupyter environment, please rerun this cell to show the HTML representation or trust the notebook. <br />On GitHub, the HTML representation is unable to render, please try loading this page with nbviewer.org.</b></div><div class=\"sk-container\" hidden><div class=\"sk-item\"><div class=\"sk-estimator sk-toggleable\"><input class=\"sk-toggleable__control sk-hidden--visually\" id=\"sk-estimator-id-2\" type=\"checkbox\" checked><label for=\"sk-estimator-id-2\" class=\"sk-toggleable__label sk-toggleable__label-arrow\">QSVR</label><div class=\"sk-toggleable__content\"><pre>QSVR(C=1.0, cache_size=200, coef0=0.0, degree=3, epsilon=0.1, gamma=&#x27;scale&#x27;,\n",
       "     max_iter=-1,\n",
       "     quantum_kernel=&lt;qiskit_machine_learning.kernels.quantum_kernel.QuantumKernel object at 0x7fed0999bfd0&gt;,\n",
       "     shrinking=True, tol=0.001, verbose=False)</pre></div></div></div></div></div>"
      ],
      "text/plain": [
       "QSVR(C=1.0, cache_size=200, coef0=0.0, degree=3, epsilon=0.1, gamma='scale',\n",
       "     max_iter=-1,\n",
       "     quantum_kernel=<qiskit_machine_learning.kernels.quantum_kernel.QuantumKernel object at 0x7fed0999bfd0>,\n",
       "     shrinking=True, tol=0.001, verbose=False)"
      ]
     },
     "execution_count": 48,
     "metadata": {},
     "output_type": "execute_result"
    }
   ],
   "source": [
    "qsvr1.fit(X_train_pca,Y_train)"
   ]
  },
  {
   "cell_type": "code",
   "execution_count": 49,
   "id": "d2de5a83",
   "metadata": {},
   "outputs": [
    {
     "name": "stderr",
     "output_type": "stream",
     "text": [
      "/Users/junjiehu/opt/anaconda3/envs/ML/lib/python3.8/site-packages/numpy/core/_asarray.py:102: ComplexWarning: Casting complex values to real discards the imaginary part\n",
      "  return array(a, dtype, copy=False, order=order)\n"
     ]
    }
   ],
   "source": [
    "y_predict_train = qsvr1.predict(X_train_pca)"
   ]
  },
  {
   "cell_type": "code",
   "execution_count": 50,
   "id": "0fb6fd77",
   "metadata": {},
   "outputs": [],
   "source": [
    "def cal_MAE(predict, label):\n",
    "    MAEerr=[]\n",
    "    for i in range(len(label)):\n",
    "        err = inverse_transform(predict[i]) - inverse_transform(label[i])\n",
    "        MAEerr.append(err)\n",
    "    out = np.mean(np.abs(np.asarray(MAEerr)))\n",
    "    return out"
   ]
  },
  {
   "cell_type": "code",
   "execution_count": 51,
   "id": "242dd345",
   "metadata": {},
   "outputs": [
    {
     "data": {
      "text/plain": [
       "0.002415826179314763"
      ]
     },
     "execution_count": 51,
     "metadata": {},
     "output_type": "execute_result"
    }
   ],
   "source": [
    "cal_MAE(y_predict_train, Y_train)"
   ]
  },
  {
   "cell_type": "code",
   "execution_count": 52,
   "id": "87c68d2a",
   "metadata": {},
   "outputs": [],
   "source": [
    "dir_file = '/Users/junjiehu/Mlearning/MaterialsML/DFT-bluk-cpx222/'"
   ]
  },
  {
   "cell_type": "code",
   "execution_count": 53,
   "id": "46a2e54d",
   "metadata": {},
   "outputs": [],
   "source": [
    "flag_set=[]\n",
    "file_path_set=[]\n",
    "work_path=dir_file\n",
    "for m1,n1,fname in os.walk(work_path):\n",
    "    for ieach in n1:\n",
    "        flag_set.append(ieach)\n",
    "        ieach=work_path+ieach\n",
    "        file_path_set.append(ieach)"
   ]
  },
  {
   "cell_type": "code",
   "execution_count": 54,
   "id": "9911c08d",
   "metadata": {},
   "outputs": [],
   "source": [
    "energy_label=[]\n",
    "Y=[]\n",
    "for pnum in range(len(file_path_set)):\n",
    "    try:\n",
    "        eee = get_energy(file_path_set[pnum])\n",
    "        eee = [eee]\n",
    "        energy_label.append(eee)\n",
    "        Y.append(linear_transform(eee))\n",
    "    except:\n",
    "        print('energy label error: ', file_path_set[pnum] )"
   ]
  },
  {
   "cell_type": "code",
   "execution_count": 55,
   "id": "f4bf76cc",
   "metadata": {},
   "outputs": [],
   "source": [
    "X=[]\n",
    "for pnum in range(len(file_path_set)):\n",
    "    try:\n",
    "        X.append(model_input_svm(file_path_set[pnum]))\n",
    "    except:\n",
    "        print('inputX error:', file_path_set[pnum])"
   ]
  },
  {
   "cell_type": "code",
   "execution_count": 56,
   "id": "e5155b4b",
   "metadata": {},
   "outputs": [],
   "source": [
    "X_pca = pca1.transform(X)"
   ]
  },
  {
   "cell_type": "code",
   "execution_count": 57,
   "id": "42cf16bc",
   "metadata": {},
   "outputs": [],
   "source": [
    "y_predict = qsvr1.predict(X_pca)"
   ]
  },
  {
   "cell_type": "code",
   "execution_count": 58,
   "id": "355a7a29",
   "metadata": {},
   "outputs": [
    {
     "data": {
      "text/plain": [
       "0.003657033066448406"
      ]
     },
     "execution_count": 58,
     "metadata": {},
     "output_type": "execute_result"
    }
   ],
   "source": [
    "cal_MAE(y_predict,Y)"
   ]
  },
  {
   "cell_type": "code",
   "execution_count": 60,
   "id": "f41537e3",
   "metadata": {},
   "outputs": [],
   "source": [
    "import numpy as np\n",
    "import matplotlib.pyplot as plt\n",
    "from matplotlib import cm\n",
    "from matplotlib.backends.backend_pdf import PdfPages"
   ]
  },
  {
   "cell_type": "code",
   "execution_count": 63,
   "id": "d4c6826b",
   "metadata": {},
   "outputs": [],
   "source": [
    "def extract(flodername):    \n",
    "    with open(flodername+'/'+'CONTCAR') as f:\n",
    "        lol=[line.strip().split('\\n') for line in f]#逐行读取，并存储为数组结构\n",
    "    matr_s_o=[]#存放晶格常数的3*3数组    \n",
    "    matr_o=[]\n",
    "    \n",
    "    formula_element=''#存放原子类型\n",
    "    amount_element=''#存放晶胞中原子个数\n",
    "    \n",
    "    matr_data_o=[]\n",
    "    matr_data_0=[]\n",
    "    matr_data=[]\n",
    "    for i in lol[2:5]:\n",
    "\n",
    "        jjj=[]\n",
    "\n",
    "        for j in i[0].split(' '):\n",
    "            if j !='':\n",
    "                jjj.append(j)\n",
    "\n",
    "        matr_s_o.append(jjj)\n",
    "   \n",
    "    for k in matr_s_o:\n",
    "        matr_o.append([float(l) for l in k])\n",
    "    \n",
    "    amount_element=lol[5]\n",
    "    \n",
    "    for n in lol[9:49]:#文件第10行开始读数据\n",
    "\n",
    "        n[0]=n[0][:-10]\n",
    "        mmm=[]\n",
    "        for m in n[0].split(' '):\n",
    "        #        print(m)\n",
    "            if m !='':\n",
    "                mmm.append(m)\n",
    "           # print(mmm)\n",
    "        matr_data_o.append(mmm)\n",
    "        \n",
    "    for p in matr_data_o:\n",
    "        matr_data_0.append([float(q) for q in p]) \n",
    "    \n",
    "    matr_out=matr_o\n",
    "    amount_element_out=amount_element[0]\n",
    "    matr_data_0=matr_data_0\n",
    "    \n",
    "    return matr_out, amount_element_out, matr_data_0"
   ]
  },
  {
   "cell_type": "code",
   "execution_count": 59,
   "id": "a67de1b4",
   "metadata": {},
   "outputs": [],
   "source": [
    "def get_tSNE_input(path_):\n",
    "    input_vector_poscar=[]\n",
    "    a,b,c=extract(path_)\n",
    "    #energy=get_energy(path_)\n",
    "    siteZero=np.asarray([0.5,0.5,0.5])\n",
    "    Br_I_atoms=c[16:]\n",
    "    coordinate=np.dot(np.asarray(Br_I_atoms),np.asarray(a))\n",
    "    #print(len(coordinate))\n",
    "    for i in range(len(coordinate)):\n",
    "        input_vector=[]\n",
    "        if i <=18:\n",
    "            #print(coordinate[i])\n",
    "            input_vector.append(2.8)\n",
    "            for x in coordinate[i]:\n",
    "                input_vector.append(x)\n",
    "            input_vector_poscar.append(input_vector)\n",
    "        else:\n",
    "            input_vector.append(2.5)\n",
    "            for x in coordinate[i]:\n",
    "                input_vector.append(x)\n",
    "            input_vector_poscar.append(input_vector)\n",
    "    input_vector_poscar=np.asarray(input_vector_poscar)\n",
    "    input_vector_poscar=input_vector_poscar.reshape((24*4),order=\"C\")\n",
    "    return input_vector_poscar"
   ]
  },
  {
   "cell_type": "code",
   "execution_count": 64,
   "id": "b57bdd8d",
   "metadata": {},
   "outputs": [],
   "source": [
    "tSNE_input=[]\n",
    "for pnum in range(len(file_path_set)):\n",
    "    try:\n",
    "        path_=file_path_set[pnum]\n",
    "        tSNE_input.append(get_tSNE_input(path_))\n",
    "    except:\n",
    "        print('error:',file_path_set[pnum])"
   ]
  },
  {
   "cell_type": "code",
   "execution_count": 66,
   "id": "36d24be7",
   "metadata": {},
   "outputs": [],
   "source": [
    "from sklearn.manifold import TSNE"
   ]
  },
  {
   "cell_type": "code",
   "execution_count": 67,
   "id": "df795ede",
   "metadata": {},
   "outputs": [],
   "source": [
    "tsne = TSNE(min_grad_norm=1e-3,init='pca',method='exact',angle=1,early_exaggeration=5,n_iter=1000)"
   ]
  },
  {
   "cell_type": "code",
   "execution_count": 68,
   "id": "10e9d9b9",
   "metadata": {},
   "outputs": [
    {
     "name": "stderr",
     "output_type": "stream",
     "text": [
      "/Users/junjiehu/opt/anaconda3/envs/ML/lib/python3.8/site-packages/sklearn/manifold/_t_sne.py:810: FutureWarning: The default learning rate in TSNE will change from 200.0 to 'auto' in 1.2.\n",
      "  warnings.warn(\n",
      "/Users/junjiehu/opt/anaconda3/envs/ML/lib/python3.8/site-packages/sklearn/manifold/_t_sne.py:996: FutureWarning: The PCA initialization in TSNE will change to have the standard deviation of PC1 equal to 1e-4 in 1.2. This will ensure better convergence.\n",
      "  warnings.warn(\n"
     ]
    }
   ],
   "source": [
    "tSNE_input = np.asarray(tSNE_input)\n",
    "tsne_output = tsne.fit_transform(tSNE_input)"
   ]
  },
  {
   "cell_type": "code",
   "execution_count": 69,
   "id": "7e9b6f65",
   "metadata": {},
   "outputs": [],
   "source": [
    "lx = tsne_output.T[0]\n",
    "ly = tsne_output.T[1]"
   ]
  },
  {
   "cell_type": "code",
   "execution_count": 73,
   "id": "3c8eba0e",
   "metadata": {},
   "outputs": [],
   "source": [
    "DFT_label=inverse_transform(np.asarray(Y))\n",
    "qsvr_predict=inverse_transform(np.asarray(y_predict))"
   ]
  },
  {
   "cell_type": "code",
   "execution_count": 74,
   "id": "94b28f9f",
   "metadata": {},
   "outputs": [
    {
     "name": "stdout",
     "output_type": "stream",
     "text": [
      "minimum: -122.70476986301841\n",
      "maximum: -122.68840903913419\n",
      "scale: 0.016360823884227216\n",
      "-122.70476986301841 -122.70149769824157 -122.69822553346472 -122.69495336868788 -122.69168120391103 -122.68840903913419\n"
     ]
    }
   ],
   "source": [
    "minz = np.min(qsvr_predict)\n",
    "maxz = np.max(qsvr_predict)\n",
    "print('minimum:',minz)\n",
    "print('maximum:',maxz)\n",
    "print('scale:',maxz-minz)\n",
    "a1 = minz + 0.2 * (maxz-minz)\n",
    "a2 = minz + 0.4 * (maxz-minz)\n",
    "a3 = minz + 0.6 * (maxz-minz)\n",
    "a4 = minz + 0.8 * (maxz-minz)\n",
    "print(minz,a1,a2,a3,a4,maxz)"
   ]
  },
  {
   "cell_type": "code",
   "execution_count": 76,
   "id": "69d19f6b",
   "metadata": {},
   "outputs": [
    {
     "data": {
      "image/png": "[encoded data removed]",
      "text/plain": [
       "<Figure size 612x432 with 2 Axes>"
      ]
     },
     "metadata": {
      "needs_background": "light"
     },
     "output_type": "display_data"
    }
   ],
   "source": [
    "f=plt.figure(figsize=(8.5,6))\n",
    "ax1=plt.gca()\n",
    "\n",
    "#j=1088\n",
    "for i in range(len(lx)):\n",
    "    color1=cm.viridis_r(int(256*(qsvr_predict[i]-minz)/(maxz-minz)))\n",
    "    a1=ax1.scatter(lx[i],ly[i],color=color1,s=50)\n",
    "    #d=np.sqrt((x[i]-x[j])**2+(y[i]-y[j])**2)\n",
    "cb=plt.colorbar(a1,ax=ax1,shrink=0.92,pad=0.03)\n",
    "cb.set_ticks([0,0.2,0.4,0.6,0.8,1])\n",
    "cb.ax.set_yticklabels(['-122.705', '-122.701', '-122.698', '-122.695', '-122.692', '-122.688'])\n",
    "cb.ax.tick_params(labelsize=18)\n",
    "ax1.set_xlabel('QSVR: Latent dimension 1',fontdict={'family':'Times New Roman','size':'26','fontstyle':'normal','fontweight':'normal'})\n",
    "ax1.set_ylabel('Latent dimension 2',labelpad=0,fontdict={'family':'Times New Roman','size':'26','fontstyle':'normal','fontweight':'normal'})\n",
    "ax1.tick_params(labelsize=22)\n",
    "ax1.spines['bottom'].set_linewidth(2)\n",
    "ax1.spines['top'].set_linewidth(2)\n",
    "ax1.spines['left'].set_linewidth(2)\n",
    "ax1.spines['right'].set_linewidth(2)\n",
    "ax1.set_xticks(())\n",
    "ax1.set_yticks(())\n",
    "plt.savefig('QSVRmodel-2.jpg')"
   ]
  },
  {
   "cell_type": "code",
   "execution_count": null,
   "id": "e2fdb136",
   "metadata": {},
   "outputs": [],
   "source": []
  },
  {
   "cell_type": "code",
   "execution_count": null,
   "id": "63fef0db",
   "metadata": {},
   "outputs": [],
   "source": []
  },
  {
   "cell_type": "code",
   "execution_count": null,
   "id": "88de86ef",
   "metadata": {},
   "outputs": [],
   "source": [
    "#ansatz = TwoLocal(feature_map.num_qubits, ['ry', 'rz'], 'cz', reps=3)"
   ]
  },
  {
   "cell_type": "code",
   "execution_count": null,
   "id": "532fcb8d",
   "metadata": {},
   "outputs": [],
   "source": [
    "#backend = Aer.get_backend('statevector_simulator')"
   ]
  },
  {
   "cell_type": "code",
   "execution_count": null,
   "id": "6f782de1",
   "metadata": {},
   "outputs": [],
   "source": [
    "t#raining_data = {'A': np.asarray([[0.324],[0.565],[0.324],[0.565]]),'B': np.asarray([[1.324],[1.565],[0.324],[0.565]])}"
   ]
  },
  {
   "cell_type": "code",
   "execution_count": null,
   "id": "6bcf1413",
   "metadata": {},
   "outputs": [],
   "source": [
    "#testing_data = np.asarray([1,2,3,4])"
   ]
  },
  {
   "cell_type": "code",
   "execution_count": null,
   "id": "57c0efb8",
   "metadata": {},
   "outputs": [],
   "source": [
    "#num_qubits = 1"
   ]
  },
  {
   "cell_type": "code",
   "execution_count": null,
   "id": "539ad6a9",
   "metadata": {},
   "outputs": [],
   "source": [
    "#qqsvr1 = regressors.QSVR(quantum_kernel=)"
   ]
  },
  {
   "cell_type": "code",
   "execution_count": null,
   "id": "31cce53b",
   "metadata": {},
   "outputs": [],
   "source": [
    "#from qiskit import QuantumInstance"
   ]
  },
  {
   "cell_type": "code",
   "execution_count": null,
   "id": "62cc0584",
   "metadata": {},
   "outputs": [],
   "source": [
    "#qqsvr1.fit(training_data,testing_data,)"
   ]
  },
  {
   "cell_type": "code",
   "execution_count": null,
   "id": "ef7ca0f8",
   "metadata": {},
   "outputs": [],
   "source": [
    "#qsvr1 = regressors.QSVR()"
   ]
  },
  {
   "cell_type": "code",
   "execution_count": null,
   "id": "35f3e4d7",
   "metadata": {},
   "outputs": [],
   "source": [
    "#help(regressors.QSVR())"
   ]
  },
  {
   "cell_type": "code",
   "execution_count": null,
   "id": "b2d83e2b",
   "metadata": {},
   "outputs": [],
   "source": [
    "#training_data = np.asarray([[0.324,0.565,0.231,0.756,0.324,0.534,0.132,0.344],\n",
    "                 [1.324,1.565,1.231,1.756,1.324,1.534,1.132,1.344]])"
   ]
  },
  {
   "cell_type": "code",
   "execution_count": null,
   "id": "fa22fcf6",
   "metadata": {},
   "outputs": [],
   "source": [
    "#testing_data = np.asarray([[0.024], [1,777]])"
   ]
  },
  {
   "cell_type": "code",
   "execution_count": null,
   "id": "30382577",
   "metadata": {},
   "outputs": [],
   "source": [
    "#qsvr1.fit(training_data,testing_data)"
   ]
  },
  {
   "cell_type": "code",
   "execution_count": null,
   "id": "053b5ea7",
   "metadata": {},
   "outputs": [],
   "source": [
    "#help(qsvr1)"
   ]
  },
  {
   "cell_type": "code",
   "execution_count": null,
   "id": "c5c33836",
   "metadata": {},
   "outputs": [],
   "source": []
  }
 ],
 "metadata": {
  "kernelspec": {
   "display_name": "ML",
   "language": "python",
   "name": "ml"
  },
  "language_info": {
   "codemirror_mode": {
    "name": "ipython",
    "version": 3
   },
   "file_extension": ".py",
   "mimetype": "text/x-python",
   "name": "python",
   "nbconvert_exporter": "python",
   "pygments_lexer": "ipython3",
   "version": "3.8.10"
  }
 },
 "nbformat": 4,
 "nbformat_minor": 5
}
